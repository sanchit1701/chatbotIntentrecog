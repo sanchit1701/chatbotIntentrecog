{
 "cells": [
  {
   "cell_type": "code",
   "execution_count": 1,
   "metadata": {
    "id": "gPe4u-TRhLDv"
   },
   "outputs": [],
   "source": [
    "import nltk\n",
    "from nltk.corpus import stopwords\n",
    "from nltk.stem import PorterStemmer, WordNetLemmatizer\n",
    "from nltk.tokenize import word_tokenize\n",
    "from sklearn.feature_extraction.text import CountVectorizer, TfidfVectorizer\n",
    "from sklearn.metrics.pairwise import cosine_similarity\n",
    "from gensim.models import Word2Vec\n",
    "import numpy as np"
   ]
  },
  {
   "cell_type": "code",
   "execution_count": 2,
   "metadata": {
    "colab": {
     "base_uri": "https://localhost:8080/"
    },
    "id": "UNjkj_Lni2ZU",
    "outputId": "88ccddc4-2d31-4cc1-d6b4-18a5d5bf6744"
   },
   "outputs": [
    {
     "name": "stderr",
     "output_type": "stream",
     "text": [
      "[nltk_data] Downloading package punkt to /root/nltk_data...\n",
      "[nltk_data]   Unzipping tokenizers/punkt.zip.\n",
      "[nltk_data] Downloading package wordnet to /root/nltk_data...\n",
      "[nltk_data] Downloading package stopwords to /root/nltk_data...\n",
      "[nltk_data]   Unzipping corpora/stopwords.zip.\n",
      "[nltk_data] Downloading package nps_chat to /root/nltk_data...\n",
      "[nltk_data]   Unzipping corpora/nps_chat.zip.\n"
     ]
    },
    {
     "data": {
      "text/plain": [
       "True"
      ]
     },
     "execution_count": 2,
     "metadata": {},
     "output_type": "execute_result"
    }
   ],
   "source": [
    "# Download NLTK resources\n",
    "nltk.download('punkt')\n",
    "nltk.download('wordnet')\n",
    "nltk.download('stopwords')\n",
    "nltk.download('nps_chat')"
   ]
  },
  {
   "cell_type": "code",
   "execution_count": 3,
   "metadata": {
    "id": "6Fb1YIOgjAux"
   },
   "outputs": [],
   "source": [
    "# Load the NLTK chatbot corpus dataset\n",
    "posts = nltk.corpus.nps_chat.xml_posts()"
   ]
  },
  {
   "cell_type": "code",
   "execution_count": 4,
   "metadata": {
    "id": "96Y7g04AjEn7"
   },
   "outputs": [],
   "source": [
    "# Preprocessing functions\n",
    "def preprocess(text):\n",
    "    tokens = word_tokenize(text.lower())\n",
    "    tokens = [token for token in tokens if token.isalpha()]  # Remove non-alphabetic tokens\n",
    "    tokens = [token for token in tokens if token not in stopwords.words('english')]  # Remove stopwords\n",
    "    return tokens"
   ]
  },
  {
   "cell_type": "code",
   "execution_count": 5,
   "metadata": {
    "id": "CvXgYQtnjJD3"
   },
   "outputs": [],
   "source": [
    "# Apply stemming\n",
    "stemmer = PorterStemmer()\n",
    "stemmed_posts = [' '.join([stemmer.stem(word) for word in preprocess(post.text)]) for post in posts]"
   ]
  },
  {
   "cell_type": "code",
   "execution_count": 6,
   "metadata": {
    "id": "eiR52H-1jMvT"
   },
   "outputs": [],
   "source": [
    "# Apply lemmatization\n",
    "lemmatizer = WordNetLemmatizer()\n",
    "lemmatized_posts = [' '.join([lemmatizer.lemmatize(word) for word in preprocess(post.text)]) for post in posts]\n",
    "\n",
    "# Bag of Words representation\n",
    "count_vectorizer = CountVectorizer()\n",
    "bow_matrix = count_vectorizer.fit_transform(lemmatized_posts)\n",
    "\n",
    "# TF-IDF representation\n",
    "tfidf_vectorizer = TfidfVectorizer()\n",
    "tfidf_matrix = tfidf_vectorizer.fit_transform(lemmatized_posts)\n"
   ]
  },
  {
   "cell_type": "code",
   "execution_count": 9,
   "metadata": {
    "id": "wRN89mQLjsJQ"
   },
   "outputs": [],
   "source": [
    "# Train Word2Vec model\n",
    "word2vec_model = Word2Vec([preprocess(post.text) for post in posts], min_count=1)\n",
    "\n",
    "# Define function to get Word2Vec embeddings\n",
    "def get_word2vec_embeddings(tokens, model):\n",
    "    embeddings = []\n",
    "    for token in tokens:\n",
    "        if token in model.wv.key_to_index:  # Checking if token exists in the vocabulary\n",
    "            embeddings.append(model.wv[token])\n",
    "    if embeddings:\n",
    "        return np.mean(embeddings, axis=0)\n",
    "    else:\n",
    "        return np.zeros(model.vector_size)\n"
   ]
  },
  {
   "cell_type": "code",
   "execution_count": null,
   "metadata": {
    "colab": {
     "base_uri": "https://localhost:8080/"
    },
    "id": "GD_uB-xhkJ6o",
    "outputId": "f04839a1-9578-4331-a421-d2395a0ffecb"
   },
   "outputs": [
    {
     "name": "stdout",
     "output_type": "stream",
     "text": [
      "You: hi\n",
      "Chatbot: Greet\n",
      "You: how are you today\n",
      "Chatbot: ynQuestion\n",
      "You: i am really good\n",
      "Chatbot: Statement\n",
      "You: thats good to hear\n",
      "Chatbot: Statement\n",
      "You: it was nice chatting with you\n",
      "Chatbot: Statement\n",
      "You: bye\n",
      "Chatbot: Bye\n"
     ]
    }
   ],
   "source": [
    "# Create chatbot function\n",
    "def simple_chatbot(user_input):\n",
    "    user_input = lemmatizer.lemmatize(user_input.lower())\n",
    "    user_input_vec = get_word2vec_embeddings(word_tokenize(user_input), word2vec_model)\n",
    "\n",
    "    similarity_scores = []\n",
    "    for post in lemmatized_posts:\n",
    "        post_vec = get_word2vec_embeddings(word_tokenize(post), word2vec_model)\n",
    "        similarity = cosine_similarity([user_input_vec], [post_vec])[0][0]\n",
    "        similarity_scores.append(similarity)\n",
    "\n",
    "    best_match_index = np.argmax(similarity_scores)\n",
    "    response = posts[best_match_index].get('class')\n",
    "    return response\n",
    "\n",
    "# Test the chatbot\n",
    "while True:\n",
    "    user_input = input(\"You: \")\n",
    "    if user_input.lower() == 'exit':\n",
    "        break\n",
    "    response = simple_chatbot(user_input)\n",
    "    print(\"Chatbot:\", response)"
   ]
  },
  {
   "cell_type": "code",
   "execution_count": 8,
   "metadata": {
    "id": "rncyAjMkkPjs"
   },
   "outputs": [],
   "source": []
  }
 ],
 "metadata": {
  "colab": {
   "provenance": []
  },
  "kernelspec": {
   "display_name": "Python 3 (ipykernel)",
   "language": "python",
   "name": "python3"
  },
  "language_info": {
   "codemirror_mode": {
    "name": "ipython",
    "version": 3
   },
   "file_extension": ".py",
   "mimetype": "text/x-python",
   "name": "python",
   "nbconvert_exporter": "python",
   "pygments_lexer": "ipython3",
   "version": "3.10.9"
  }
 },
 "nbformat": 4,
 "nbformat_minor": 1
}
