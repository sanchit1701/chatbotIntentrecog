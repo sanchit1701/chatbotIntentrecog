{
  "metadata": {
    "kernelspec": {
      "display_name": "Python 3",
      "name": "python3"
    },
    "language_info": {
      "name": "python",
      "version": "3.10.12",
      "mimetype": "text/x-python",
      "codemirror_mode": {
        "name": "ipython",
        "version": 3
      },
      "pygments_lexer": "ipython3",
      "nbconvert_exporter": "python",
      "file_extension": ".py"
    },
    "colab": {
      "provenance": [],
      "gpuType": "T4"
    },
    "accelerator": "GPU",
    "widgets": {
      "application/vnd.jupyter.widget-state+json": {
        "66868fe8caba4a1fba3b8fd5657ef210": {
          "model_module": "@jupyter-widgets/controls",
          "model_name": "HBoxModel",
          "model_module_version": "1.5.0",
          "state": {
            "_dom_classes": [],
            "_model_module": "@jupyter-widgets/controls",
            "_model_module_version": "1.5.0",
            "_model_name": "HBoxModel",
            "_view_count": null,
            "_view_module": "@jupyter-widgets/controls",
            "_view_module_version": "1.5.0",
            "_view_name": "HBoxView",
            "box_style": "",
            "children": [
              "IPY_MODEL_8be48cbe7903430fa4865b43098c06ff",
              "IPY_MODEL_6edaed12e28b4dbf98388df8db543e9f",
              "IPY_MODEL_a2f441308511414e915dea41cbc2598f"
            ],
            "layout": "IPY_MODEL_40c906c1f1f74b4dbcda738cca026bfc"
          }
        },
        "8be48cbe7903430fa4865b43098c06ff": {
          "model_module": "@jupyter-widgets/controls",
          "model_name": "HTMLModel",
          "model_module_version": "1.5.0",
          "state": {
            "_dom_classes": [],
            "_model_module": "@jupyter-widgets/controls",
            "_model_module_version": "1.5.0",
            "_model_name": "HTMLModel",
            "_view_count": null,
            "_view_module": "@jupyter-widgets/controls",
            "_view_module_version": "1.5.0",
            "_view_name": "HTMLView",
            "description": "",
            "description_tooltip": null,
            "layout": "IPY_MODEL_abdf35139f7c4675bfb47127bc48c3d0",
            "placeholder": "​",
            "style": "IPY_MODEL_59fe54a63d0f414189a96411b79eb88f",
            "value": "Map: 100%"
          }
        },
        "6edaed12e28b4dbf98388df8db543e9f": {
          "model_module": "@jupyter-widgets/controls",
          "model_name": "FloatProgressModel",
          "model_module_version": "1.5.0",
          "state": {
            "_dom_classes": [],
            "_model_module": "@jupyter-widgets/controls",
            "_model_module_version": "1.5.0",
            "_model_name": "FloatProgressModel",
            "_view_count": null,
            "_view_module": "@jupyter-widgets/controls",
            "_view_module_version": "1.5.0",
            "_view_name": "ProgressView",
            "bar_style": "success",
            "description": "",
            "description_tooltip": null,
            "layout": "IPY_MODEL_375b881810814432acdceb49f93d992b",
            "max": 21534,
            "min": 0,
            "orientation": "horizontal",
            "style": "IPY_MODEL_180b4df9de1f4ac89a83247e2784a193",
            "value": 21534
          }
        },
        "a2f441308511414e915dea41cbc2598f": {
          "model_module": "@jupyter-widgets/controls",
          "model_name": "HTMLModel",
          "model_module_version": "1.5.0",
          "state": {
            "_dom_classes": [],
            "_model_module": "@jupyter-widgets/controls",
            "_model_module_version": "1.5.0",
            "_model_name": "HTMLModel",
            "_view_count": null,
            "_view_module": "@jupyter-widgets/controls",
            "_view_module_version": "1.5.0",
            "_view_name": "HTMLView",
            "description": "",
            "description_tooltip": null,
            "layout": "IPY_MODEL_a1ed2d27866f4e8180b19ac8c25d9901",
            "placeholder": "​",
            "style": "IPY_MODEL_694b81cf46ca4ec2bd8dbe2ae0ce4345",
            "value": " 21534/21534 [00:02&lt;00:00, 9929.56 examples/s]"
          }
        },
        "40c906c1f1f74b4dbcda738cca026bfc": {
          "model_module": "@jupyter-widgets/base",
          "model_name": "LayoutModel",
          "model_module_version": "1.2.0",
          "state": {
            "_model_module": "@jupyter-widgets/base",
            "_model_module_version": "1.2.0",
            "_model_name": "LayoutModel",
            "_view_count": null,
            "_view_module": "@jupyter-widgets/base",
            "_view_module_version": "1.2.0",
            "_view_name": "LayoutView",
            "align_content": null,
            "align_items": null,
            "align_self": null,
            "border": null,
            "bottom": null,
            "display": null,
            "flex": null,
            "flex_flow": null,
            "grid_area": null,
            "grid_auto_columns": null,
            "grid_auto_flow": null,
            "grid_auto_rows": null,
            "grid_column": null,
            "grid_gap": null,
            "grid_row": null,
            "grid_template_areas": null,
            "grid_template_columns": null,
            "grid_template_rows": null,
            "height": null,
            "justify_content": null,
            "justify_items": null,
            "left": null,
            "margin": null,
            "max_height": null,
            "max_width": null,
            "min_height": null,
            "min_width": null,
            "object_fit": null,
            "object_position": null,
            "order": null,
            "overflow": null,
            "overflow_x": null,
            "overflow_y": null,
            "padding": null,
            "right": null,
            "top": null,
            "visibility": null,
            "width": null
          }
        },
        "abdf35139f7c4675bfb47127bc48c3d0": {
          "model_module": "@jupyter-widgets/base",
          "model_name": "LayoutModel",
          "model_module_version": "1.2.0",
          "state": {
            "_model_module": "@jupyter-widgets/base",
            "_model_module_version": "1.2.0",
            "_model_name": "LayoutModel",
            "_view_count": null,
            "_view_module": "@jupyter-widgets/base",
            "_view_module_version": "1.2.0",
            "_view_name": "LayoutView",
            "align_content": null,
            "align_items": null,
            "align_self": null,
            "border": null,
            "bottom": null,
            "display": null,
            "flex": null,
            "flex_flow": null,
            "grid_area": null,
            "grid_auto_columns": null,
            "grid_auto_flow": null,
            "grid_auto_rows": null,
            "grid_column": null,
            "grid_gap": null,
            "grid_row": null,
            "grid_template_areas": null,
            "grid_template_columns": null,
            "grid_template_rows": null,
            "height": null,
            "justify_content": null,
            "justify_items": null,
            "left": null,
            "margin": null,
            "max_height": null,
            "max_width": null,
            "min_height": null,
            "min_width": null,
            "object_fit": null,
            "object_position": null,
            "order": null,
            "overflow": null,
            "overflow_x": null,
            "overflow_y": null,
            "padding": null,
            "right": null,
            "top": null,
            "visibility": null,
            "width": null
          }
        },
        "59fe54a63d0f414189a96411b79eb88f": {
          "model_module": "@jupyter-widgets/controls",
          "model_name": "DescriptionStyleModel",
          "model_module_version": "1.5.0",
          "state": {
            "_model_module": "@jupyter-widgets/controls",
            "_model_module_version": "1.5.0",
            "_model_name": "DescriptionStyleModel",
            "_view_count": null,
            "_view_module": "@jupyter-widgets/base",
            "_view_module_version": "1.2.0",
            "_view_name": "StyleView",
            "description_width": ""
          }
        },
        "375b881810814432acdceb49f93d992b": {
          "model_module": "@jupyter-widgets/base",
          "model_name": "LayoutModel",
          "model_module_version": "1.2.0",
          "state": {
            "_model_module": "@jupyter-widgets/base",
            "_model_module_version": "1.2.0",
            "_model_name": "LayoutModel",
            "_view_count": null,
            "_view_module": "@jupyter-widgets/base",
            "_view_module_version": "1.2.0",
            "_view_name": "LayoutView",
            "align_content": null,
            "align_items": null,
            "align_self": null,
            "border": null,
            "bottom": null,
            "display": null,
            "flex": null,
            "flex_flow": null,
            "grid_area": null,
            "grid_auto_columns": null,
            "grid_auto_flow": null,
            "grid_auto_rows": null,
            "grid_column": null,
            "grid_gap": null,
            "grid_row": null,
            "grid_template_areas": null,
            "grid_template_columns": null,
            "grid_template_rows": null,
            "height": null,
            "justify_content": null,
            "justify_items": null,
            "left": null,
            "margin": null,
            "max_height": null,
            "max_width": null,
            "min_height": null,
            "min_width": null,
            "object_fit": null,
            "object_position": null,
            "order": null,
            "overflow": null,
            "overflow_x": null,
            "overflow_y": null,
            "padding": null,
            "right": null,
            "top": null,
            "visibility": null,
            "width": null
          }
        },
        "180b4df9de1f4ac89a83247e2784a193": {
          "model_module": "@jupyter-widgets/controls",
          "model_name": "ProgressStyleModel",
          "model_module_version": "1.5.0",
          "state": {
            "_model_module": "@jupyter-widgets/controls",
            "_model_module_version": "1.5.0",
            "_model_name": "ProgressStyleModel",
            "_view_count": null,
            "_view_module": "@jupyter-widgets/base",
            "_view_module_version": "1.2.0",
            "_view_name": "StyleView",
            "bar_color": null,
            "description_width": ""
          }
        },
        "a1ed2d27866f4e8180b19ac8c25d9901": {
          "model_module": "@jupyter-widgets/base",
          "model_name": "LayoutModel",
          "model_module_version": "1.2.0",
          "state": {
            "_model_module": "@jupyter-widgets/base",
            "_model_module_version": "1.2.0",
            "_model_name": "LayoutModel",
            "_view_count": null,
            "_view_module": "@jupyter-widgets/base",
            "_view_module_version": "1.2.0",
            "_view_name": "LayoutView",
            "align_content": null,
            "align_items": null,
            "align_self": null,
            "border": null,
            "bottom": null,
            "display": null,
            "flex": null,
            "flex_flow": null,
            "grid_area": null,
            "grid_auto_columns": null,
            "grid_auto_flow": null,
            "grid_auto_rows": null,
            "grid_column": null,
            "grid_gap": null,
            "grid_row": null,
            "grid_template_areas": null,
            "grid_template_columns": null,
            "grid_template_rows": null,
            "height": null,
            "justify_content": null,
            "justify_items": null,
            "left": null,
            "margin": null,
            "max_height": null,
            "max_width": null,
            "min_height": null,
            "min_width": null,
            "object_fit": null,
            "object_position": null,
            "order": null,
            "overflow": null,
            "overflow_x": null,
            "overflow_y": null,
            "padding": null,
            "right": null,
            "top": null,
            "visibility": null,
            "width": null
          }
        },
        "694b81cf46ca4ec2bd8dbe2ae0ce4345": {
          "model_module": "@jupyter-widgets/controls",
          "model_name": "DescriptionStyleModel",
          "model_module_version": "1.5.0",
          "state": {
            "_model_module": "@jupyter-widgets/controls",
            "_model_module_version": "1.5.0",
            "_model_name": "DescriptionStyleModel",
            "_view_count": null,
            "_view_module": "@jupyter-widgets/base",
            "_view_module_version": "1.2.0",
            "_view_name": "StyleView",
            "description_width": ""
          }
        },
        "0a233265de244e9ca5d7d70d72552ae3": {
          "model_module": "@jupyter-widgets/controls",
          "model_name": "HBoxModel",
          "model_module_version": "1.5.0",
          "state": {
            "_dom_classes": [],
            "_model_module": "@jupyter-widgets/controls",
            "_model_module_version": "1.5.0",
            "_model_name": "HBoxModel",
            "_view_count": null,
            "_view_module": "@jupyter-widgets/controls",
            "_view_module_version": "1.5.0",
            "_view_name": "HBoxView",
            "box_style": "",
            "children": [
              "IPY_MODEL_7e90a8c8740c45738448709c0d27cd35",
              "IPY_MODEL_a94a7365e9f245da845e686a6bae58fa",
              "IPY_MODEL_b8a3856012b54f93b6ef0b69ee0c52ef"
            ],
            "layout": "IPY_MODEL_b1da707a8fdc49c8ab3ca499da0e8e71"
          }
        },
        "7e90a8c8740c45738448709c0d27cd35": {
          "model_module": "@jupyter-widgets/controls",
          "model_name": "HTMLModel",
          "model_module_version": "1.5.0",
          "state": {
            "_dom_classes": [],
            "_model_module": "@jupyter-widgets/controls",
            "_model_module_version": "1.5.0",
            "_model_name": "HTMLModel",
            "_view_count": null,
            "_view_module": "@jupyter-widgets/controls",
            "_view_module_version": "1.5.0",
            "_view_name": "HTMLView",
            "description": "",
            "description_tooltip": null,
            "layout": "IPY_MODEL_4c67b462f4e14cb9a5b92a77db525178",
            "placeholder": "​",
            "style": "IPY_MODEL_90e33cd3c1c940c19707c5fce2fe222c",
            "value": "Map: 100%"
          }
        },
        "a94a7365e9f245da845e686a6bae58fa": {
          "model_module": "@jupyter-widgets/controls",
          "model_name": "FloatProgressModel",
          "model_module_version": "1.5.0",
          "state": {
            "_dom_classes": [],
            "_model_module": "@jupyter-widgets/controls",
            "_model_module_version": "1.5.0",
            "_model_name": "FloatProgressModel",
            "_view_count": null,
            "_view_module": "@jupyter-widgets/controls",
            "_view_module_version": "1.5.0",
            "_view_name": "ProgressView",
            "bar_style": "success",
            "description": "",
            "description_tooltip": null,
            "layout": "IPY_MODEL_666a4135cde7483f970b827c1b97001d",
            "max": 21534,
            "min": 0,
            "orientation": "horizontal",
            "style": "IPY_MODEL_334634ef2fd048d79db5d5f76fdfbab5",
            "value": 21534
          }
        },
        "b8a3856012b54f93b6ef0b69ee0c52ef": {
          "model_module": "@jupyter-widgets/controls",
          "model_name": "HTMLModel",
          "model_module_version": "1.5.0",
          "state": {
            "_dom_classes": [],
            "_model_module": "@jupyter-widgets/controls",
            "_model_module_version": "1.5.0",
            "_model_name": "HTMLModel",
            "_view_count": null,
            "_view_module": "@jupyter-widgets/controls",
            "_view_module_version": "1.5.0",
            "_view_name": "HTMLView",
            "description": "",
            "description_tooltip": null,
            "layout": "IPY_MODEL_2bc5fa394b4e438b9c3db22508d4d015",
            "placeholder": "​",
            "style": "IPY_MODEL_2e75b3818d954be6b7f51b5c60a8a819",
            "value": " 21534/21534 [00:08&lt;00:00, 1609.08 examples/s]"
          }
        },
        "b1da707a8fdc49c8ab3ca499da0e8e71": {
          "model_module": "@jupyter-widgets/base",
          "model_name": "LayoutModel",
          "model_module_version": "1.2.0",
          "state": {
            "_model_module": "@jupyter-widgets/base",
            "_model_module_version": "1.2.0",
            "_model_name": "LayoutModel",
            "_view_count": null,
            "_view_module": "@jupyter-widgets/base",
            "_view_module_version": "1.2.0",
            "_view_name": "LayoutView",
            "align_content": null,
            "align_items": null,
            "align_self": null,
            "border": null,
            "bottom": null,
            "display": null,
            "flex": null,
            "flex_flow": null,
            "grid_area": null,
            "grid_auto_columns": null,
            "grid_auto_flow": null,
            "grid_auto_rows": null,
            "grid_column": null,
            "grid_gap": null,
            "grid_row": null,
            "grid_template_areas": null,
            "grid_template_columns": null,
            "grid_template_rows": null,
            "height": null,
            "justify_content": null,
            "justify_items": null,
            "left": null,
            "margin": null,
            "max_height": null,
            "max_width": null,
            "min_height": null,
            "min_width": null,
            "object_fit": null,
            "object_position": null,
            "order": null,
            "overflow": null,
            "overflow_x": null,
            "overflow_y": null,
            "padding": null,
            "right": null,
            "top": null,
            "visibility": null,
            "width": null
          }
        },
        "4c67b462f4e14cb9a5b92a77db525178": {
          "model_module": "@jupyter-widgets/base",
          "model_name": "LayoutModel",
          "model_module_version": "1.2.0",
          "state": {
            "_model_module": "@jupyter-widgets/base",
            "_model_module_version": "1.2.0",
            "_model_name": "LayoutModel",
            "_view_count": null,
            "_view_module": "@jupyter-widgets/base",
            "_view_module_version": "1.2.0",
            "_view_name": "LayoutView",
            "align_content": null,
            "align_items": null,
            "align_self": null,
            "border": null,
            "bottom": null,
            "display": null,
            "flex": null,
            "flex_flow": null,
            "grid_area": null,
            "grid_auto_columns": null,
            "grid_auto_flow": null,
            "grid_auto_rows": null,
            "grid_column": null,
            "grid_gap": null,
            "grid_row": null,
            "grid_template_areas": null,
            "grid_template_columns": null,
            "grid_template_rows": null,
            "height": null,
            "justify_content": null,
            "justify_items": null,
            "left": null,
            "margin": null,
            "max_height": null,
            "max_width": null,
            "min_height": null,
            "min_width": null,
            "object_fit": null,
            "object_position": null,
            "order": null,
            "overflow": null,
            "overflow_x": null,
            "overflow_y": null,
            "padding": null,
            "right": null,
            "top": null,
            "visibility": null,
            "width": null
          }
        },
        "90e33cd3c1c940c19707c5fce2fe222c": {
          "model_module": "@jupyter-widgets/controls",
          "model_name": "DescriptionStyleModel",
          "model_module_version": "1.5.0",
          "state": {
            "_model_module": "@jupyter-widgets/controls",
            "_model_module_version": "1.5.0",
            "_model_name": "DescriptionStyleModel",
            "_view_count": null,
            "_view_module": "@jupyter-widgets/base",
            "_view_module_version": "1.2.0",
            "_view_name": "StyleView",
            "description_width": ""
          }
        },
        "666a4135cde7483f970b827c1b97001d": {
          "model_module": "@jupyter-widgets/base",
          "model_name": "LayoutModel",
          "model_module_version": "1.2.0",
          "state": {
            "_model_module": "@jupyter-widgets/base",
            "_model_module_version": "1.2.0",
            "_model_name": "LayoutModel",
            "_view_count": null,
            "_view_module": "@jupyter-widgets/base",
            "_view_module_version": "1.2.0",
            "_view_name": "LayoutView",
            "align_content": null,
            "align_items": null,
            "align_self": null,
            "border": null,
            "bottom": null,
            "display": null,
            "flex": null,
            "flex_flow": null,
            "grid_area": null,
            "grid_auto_columns": null,
            "grid_auto_flow": null,
            "grid_auto_rows": null,
            "grid_column": null,
            "grid_gap": null,
            "grid_row": null,
            "grid_template_areas": null,
            "grid_template_columns": null,
            "grid_template_rows": null,
            "height": null,
            "justify_content": null,
            "justify_items": null,
            "left": null,
            "margin": null,
            "max_height": null,
            "max_width": null,
            "min_height": null,
            "min_width": null,
            "object_fit": null,
            "object_position": null,
            "order": null,
            "overflow": null,
            "overflow_x": null,
            "overflow_y": null,
            "padding": null,
            "right": null,
            "top": null,
            "visibility": null,
            "width": null
          }
        },
        "334634ef2fd048d79db5d5f76fdfbab5": {
          "model_module": "@jupyter-widgets/controls",
          "model_name": "ProgressStyleModel",
          "model_module_version": "1.5.0",
          "state": {
            "_model_module": "@jupyter-widgets/controls",
            "_model_module_version": "1.5.0",
            "_model_name": "ProgressStyleModel",
            "_view_count": null,
            "_view_module": "@jupyter-widgets/base",
            "_view_module_version": "1.2.0",
            "_view_name": "StyleView",
            "bar_color": null,
            "description_width": ""
          }
        },
        "2bc5fa394b4e438b9c3db22508d4d015": {
          "model_module": "@jupyter-widgets/base",
          "model_name": "LayoutModel",
          "model_module_version": "1.2.0",
          "state": {
            "_model_module": "@jupyter-widgets/base",
            "_model_module_version": "1.2.0",
            "_model_name": "LayoutModel",
            "_view_count": null,
            "_view_module": "@jupyter-widgets/base",
            "_view_module_version": "1.2.0",
            "_view_name": "LayoutView",
            "align_content": null,
            "align_items": null,
            "align_self": null,
            "border": null,
            "bottom": null,
            "display": null,
            "flex": null,
            "flex_flow": null,
            "grid_area": null,
            "grid_auto_columns": null,
            "grid_auto_flow": null,
            "grid_auto_rows": null,
            "grid_column": null,
            "grid_gap": null,
            "grid_row": null,
            "grid_template_areas": null,
            "grid_template_columns": null,
            "grid_template_rows": null,
            "height": null,
            "justify_content": null,
            "justify_items": null,
            "left": null,
            "margin": null,
            "max_height": null,
            "max_width": null,
            "min_height": null,
            "min_width": null,
            "object_fit": null,
            "object_position": null,
            "order": null,
            "overflow": null,
            "overflow_x": null,
            "overflow_y": null,
            "padding": null,
            "right": null,
            "top": null,
            "visibility": null,
            "width": null
          }
        },
        "2e75b3818d954be6b7f51b5c60a8a819": {
          "model_module": "@jupyter-widgets/controls",
          "model_name": "DescriptionStyleModel",
          "model_module_version": "1.5.0",
          "state": {
            "_model_module": "@jupyter-widgets/controls",
            "_model_module_version": "1.5.0",
            "_model_name": "DescriptionStyleModel",
            "_view_count": null,
            "_view_module": "@jupyter-widgets/base",
            "_view_module_version": "1.2.0",
            "_view_name": "StyleView",
            "description_width": ""
          }
        }
      }
    }
  },
  "nbformat_minor": 0,
  "nbformat": 4,
  "cells": [
    {
      "cell_type": "code",
      "source": [
        "!pip install datasets"
      ],
      "metadata": {
        "colab": {
          "base_uri": "https://localhost:8080/"
        },
        "id": "k2uQBRsupT4P",
        "outputId": "c60ede6b-b052-41de-9a6f-51388dd1b921"
      },
      "execution_count": null,
      "outputs": [
        {
          "output_type": "stream",
          "name": "stdout",
          "text": [
            "Requirement already satisfied: datasets in /usr/local/lib/python3.10/dist-packages (2.19.1)\n",
            "Requirement already satisfied: filelock in /usr/local/lib/python3.10/dist-packages (from datasets) (3.14.0)\n",
            "Requirement already satisfied: numpy>=1.17 in /usr/local/lib/python3.10/dist-packages (from datasets) (1.25.2)\n",
            "Requirement already satisfied: pyarrow>=12.0.0 in /usr/local/lib/python3.10/dist-packages (from datasets) (14.0.2)\n",
            "Requirement already satisfied: pyarrow-hotfix in /usr/local/lib/python3.10/dist-packages (from datasets) (0.6)\n",
            "Requirement already satisfied: dill<0.3.9,>=0.3.0 in /usr/local/lib/python3.10/dist-packages (from datasets) (0.3.8)\n",
            "Requirement already satisfied: pandas in /usr/local/lib/python3.10/dist-packages (from datasets) (2.0.3)\n",
            "Requirement already satisfied: requests>=2.19.0 in /usr/local/lib/python3.10/dist-packages (from datasets) (2.31.0)\n",
            "Requirement already satisfied: tqdm>=4.62.1 in /usr/local/lib/python3.10/dist-packages (from datasets) (4.66.4)\n",
            "Requirement already satisfied: xxhash in /usr/local/lib/python3.10/dist-packages (from datasets) (3.4.1)\n",
            "Requirement already satisfied: multiprocess in /usr/local/lib/python3.10/dist-packages (from datasets) (0.70.16)\n",
            "Requirement already satisfied: fsspec[http]<=2024.3.1,>=2023.1.0 in /usr/local/lib/python3.10/dist-packages (from datasets) (2023.6.0)\n",
            "Requirement already satisfied: aiohttp in /usr/local/lib/python3.10/dist-packages (from datasets) (3.9.5)\n",
            "Requirement already satisfied: huggingface-hub>=0.21.2 in /usr/local/lib/python3.10/dist-packages (from datasets) (0.23.0)\n",
            "Requirement already satisfied: packaging in /usr/local/lib/python3.10/dist-packages (from datasets) (24.0)\n",
            "Requirement already satisfied: pyyaml>=5.1 in /usr/local/lib/python3.10/dist-packages (from datasets) (6.0.1)\n",
            "Requirement already satisfied: aiosignal>=1.1.2 in /usr/local/lib/python3.10/dist-packages (from aiohttp->datasets) (1.3.1)\n",
            "Requirement already satisfied: attrs>=17.3.0 in /usr/local/lib/python3.10/dist-packages (from aiohttp->datasets) (23.2.0)\n",
            "Requirement already satisfied: frozenlist>=1.1.1 in /usr/local/lib/python3.10/dist-packages (from aiohttp->datasets) (1.4.1)\n",
            "Requirement already satisfied: multidict<7.0,>=4.5 in /usr/local/lib/python3.10/dist-packages (from aiohttp->datasets) (6.0.5)\n",
            "Requirement already satisfied: yarl<2.0,>=1.0 in /usr/local/lib/python3.10/dist-packages (from aiohttp->datasets) (1.9.4)\n",
            "Requirement already satisfied: async-timeout<5.0,>=4.0 in /usr/local/lib/python3.10/dist-packages (from aiohttp->datasets) (4.0.3)\n",
            "Requirement already satisfied: typing-extensions>=3.7.4.3 in /usr/local/lib/python3.10/dist-packages (from huggingface-hub>=0.21.2->datasets) (4.11.0)\n",
            "Requirement already satisfied: charset-normalizer<4,>=2 in /usr/local/lib/python3.10/dist-packages (from requests>=2.19.0->datasets) (3.3.2)\n",
            "Requirement already satisfied: idna<4,>=2.5 in /usr/local/lib/python3.10/dist-packages (from requests>=2.19.0->datasets) (3.7)\n",
            "Requirement already satisfied: urllib3<3,>=1.21.1 in /usr/local/lib/python3.10/dist-packages (from requests>=2.19.0->datasets) (2.0.7)\n",
            "Requirement already satisfied: certifi>=2017.4.17 in /usr/local/lib/python3.10/dist-packages (from requests>=2.19.0->datasets) (2024.2.2)\n",
            "Requirement already satisfied: python-dateutil>=2.8.2 in /usr/local/lib/python3.10/dist-packages (from pandas->datasets) (2.8.2)\n",
            "Requirement already satisfied: pytz>=2020.1 in /usr/local/lib/python3.10/dist-packages (from pandas->datasets) (2023.4)\n",
            "Requirement already satisfied: tzdata>=2022.1 in /usr/local/lib/python3.10/dist-packages (from pandas->datasets) (2024.1)\n",
            "Requirement already satisfied: six>=1.5 in /usr/local/lib/python3.10/dist-packages (from python-dateutil>=2.8.2->pandas->datasets) (1.16.0)\n"
          ]
        }
      ]
    },
    {
      "cell_type": "code",
      "source": [
        "from tensorflow.keras.models import Model\n",
        "from tensorflow.keras.layers import Layer\n",
        "from tensorflow.keras.layers import Dense,Flatten,InputLayer,BatchNormalization,Dropout,Input,LayerNormalization\n",
        "from tensorflow.keras.losses import BinaryCrossentropy,CategoricalCrossentropy, SparseCategoricalCrossentropy\n",
        "from tensorflow.keras.metrics import (BinaryAccuracy, FalsePositives, FalseNegatives, TruePositives,\n",
        "                                       TrueNegatives, Precision, Recall, AUC, binary_accuracy,Accuracy,\n",
        "                                       TopKCategoricalAccuracy, CategoricalAccuracy,SparseCategoricalAccuracy)\n",
        "from tensorflow.keras.optimizers import Adam\n",
        "from datasets import load_dataset\n",
        "from transformers import (BertTokenizerFast,TFBertTokenizer,BertTokenizer,RobertaTokenizerFast,\n",
        "                          DataCollatorWithPadding,TFRobertaForSequenceClassification,TFBertForSequenceClassification,\n",
        "                          TFBertModel,create_optimizer,TFDebertaForSequenceClassification,DebertaTokenizerFast)\n",
        "import tensorflow as tf"
      ],
      "metadata": {
        "_uuid": "8f2839f25d086af736a60e9eeb907d3b93b6e0e5",
        "_cell_guid": "b1076dfc-b9ad-4769-8c92-a6c4dae69d19",
        "execution": {
          "iopub.status.busy": "2023-07-25T13:07:37.874765Z",
          "iopub.execute_input": "2023-07-25T13:07:37.875903Z",
          "iopub.status.idle": "2023-07-25T13:07:37.889148Z",
          "shell.execute_reply.started": "2023-07-25T13:07:37.875848Z",
          "shell.execute_reply": "2023-07-25T13:07:37.887480Z"
        },
        "trusted": true,
        "id": "ZNNQHqe5eUyq"
      },
      "execution_count": null,
      "outputs": []
    },
    {
      "cell_type": "code",
      "source": [
        "dataset = load_dataset(\"csv\", data_files = \"/content/20000-~1.CSV\")"
      ],
      "metadata": {
        "execution": {
          "iopub.status.busy": "2023-07-25T10:04:47.718780Z",
          "iopub.execute_input": "2023-07-25T10:04:47.719833Z",
          "iopub.status.idle": "2023-07-25T10:04:48.788432Z",
          "shell.execute_reply.started": "2023-07-25T10:04:47.719777Z",
          "shell.execute_reply": "2023-07-25T10:04:48.786666Z"
        },
        "trusted": true,
        "id": "ifs_Dk-aeUys"
      },
      "execution_count": null,
      "outputs": []
    },
    {
      "cell_type": "code",
      "source": [
        "dataset"
      ],
      "metadata": {
        "execution": {
          "iopub.status.busy": "2023-07-25T10:04:53.257060Z",
          "iopub.execute_input": "2023-07-25T10:04:53.258922Z",
          "iopub.status.idle": "2023-07-25T10:04:53.268424Z",
          "shell.execute_reply.started": "2023-07-25T10:04:53.258838Z",
          "shell.execute_reply": "2023-07-25T10:04:53.266548Z"
        },
        "trusted": true,
        "colab": {
          "base_uri": "https://localhost:8080/"
        },
        "id": "lYef_m_reUys",
        "outputId": "3ae2e08d-ff49-43e1-c785-ae53313ffbf8"
      },
      "execution_count": null,
      "outputs": [
        {
          "output_type": "execute_result",
          "data": {
            "text/plain": [
              "DatasetDict({\n",
              "    train: Dataset({\n",
              "        features: ['flags', 'utterance', 'category', 'intent'],\n",
              "        num_rows: 21534\n",
              "    })\n",
              "})"
            ]
          },
          "metadata": {},
          "execution_count": 4
        }
      ]
    },
    {
      "cell_type": "code",
      "source": [
        "dataset['train'][0]"
      ],
      "metadata": {
        "execution": {
          "iopub.status.busy": "2023-07-25T10:05:07.345205Z",
          "iopub.execute_input": "2023-07-25T10:05:07.345714Z",
          "iopub.status.idle": "2023-07-25T10:05:07.354032Z",
          "shell.execute_reply.started": "2023-07-25T10:05:07.345677Z",
          "shell.execute_reply": "2023-07-25T10:05:07.352777Z"
        },
        "trusted": true,
        "colab": {
          "base_uri": "https://localhost:8080/"
        },
        "id": "lHNWnbUleUyt",
        "outputId": "b59d8e8c-e354-41b7-ecd0-3c124447658b"
      },
      "execution_count": null,
      "outputs": [
        {
          "output_type": "execute_result",
          "data": {
            "text/plain": [
              "{'flags': 'BILC',\n",
              " 'utterance': \"I don't have an online account, what do I have to do to register?\",\n",
              " 'category': 'ACCOUNT',\n",
              " 'intent': 'create_account'}"
            ]
          },
          "metadata": {},
          "execution_count": 5
        }
      ]
    },
    {
      "cell_type": "code",
      "source": [
        "intents=list(set(dataset['train']['intent']))\n",
        "dict_intents={intents[i]: i for i in range(len(intents))}\n",
        "print(dict_intents)\n",
        "print(len(intents))"
      ],
      "metadata": {
        "execution": {
          "iopub.status.busy": "2023-07-25T10:05:17.025186Z",
          "iopub.execute_input": "2023-07-25T10:05:17.025666Z",
          "iopub.status.idle": "2023-07-25T10:05:17.060949Z",
          "shell.execute_reply.started": "2023-07-25T10:05:17.025633Z",
          "shell.execute_reply": "2023-07-25T10:05:17.059264Z"
        },
        "trusted": true,
        "colab": {
          "base_uri": "https://localhost:8080/"
        },
        "id": "e9cNI_XReUyt",
        "outputId": "44e93b2d-f312-4639-cb31-f08eb11ba908"
      },
      "execution_count": null,
      "outputs": [
        {
          "output_type": "stream",
          "name": "stdout",
          "text": [
            "{'review': 0, 'registration_problems': 1, 'get_invoice': 2, 'check_invoices': 3, 'check_cancellation_fee': 4, 'set_up_shipping_address': 5, 'newsletter_subscription': 6, 'get_refund': 7, 'recover_password': 8, 'track_refund': 9, 'cancel_order': 10, 'change_order': 11, 'delivery_period': 12, 'check_payment_methods': 13, 'complaint': 14, 'payment_issue': 15, 'change_shipping_address': 16, 'switch_account': 17, 'place_order': 18, 'edit_account': 19, 'delivery_options': 20, 'check_refund_policy': 21, 'create_account': 22, 'delete_account': 23, 'track_order': 24, 'contact_human_agent': 25, 'contact_customer_service': 26}\n",
            "27\n"
          ]
        }
      ]
    },
    {
      "cell_type": "code",
      "source": [
        "def categorical_labeling(dataset):\n",
        "    return {\n",
        "        'utterance': dataset['utterance'],\n",
        "        'intent': dict_intents[dataset['intent']]\n",
        "    }"
      ],
      "metadata": {
        "execution": {
          "iopub.status.busy": "2023-07-25T10:06:26.921006Z",
          "iopub.execute_input": "2023-07-25T10:06:26.921585Z",
          "iopub.status.idle": "2023-07-25T10:06:26.928617Z",
          "shell.execute_reply.started": "2023-07-25T10:06:26.921544Z",
          "shell.execute_reply": "2023-07-25T10:06:26.926737Z"
        },
        "trusted": true,
        "id": "LtYdKyrveUyt"
      },
      "execution_count": null,
      "outputs": []
    },
    {
      "cell_type": "code",
      "source": [
        "prep_data = dataset.map(categorical_labeling)"
      ],
      "metadata": {
        "execution": {
          "iopub.status.busy": "2023-07-25T10:06:45.456013Z",
          "iopub.execute_input": "2023-07-25T10:06:45.456690Z",
          "iopub.status.idle": "2023-07-25T10:06:47.398560Z",
          "shell.execute_reply.started": "2023-07-25T10:06:45.456645Z",
          "shell.execute_reply": "2023-07-25T10:06:47.397476Z"
        },
        "trusted": true,
        "colab": {
          "base_uri": "https://localhost:8080/",
          "height": 49,
          "referenced_widgets": [
            "66868fe8caba4a1fba3b8fd5657ef210",
            "8be48cbe7903430fa4865b43098c06ff",
            "6edaed12e28b4dbf98388df8db543e9f",
            "a2f441308511414e915dea41cbc2598f",
            "40c906c1f1f74b4dbcda738cca026bfc",
            "abdf35139f7c4675bfb47127bc48c3d0",
            "59fe54a63d0f414189a96411b79eb88f",
            "375b881810814432acdceb49f93d992b",
            "180b4df9de1f4ac89a83247e2784a193",
            "a1ed2d27866f4e8180b19ac8c25d9901",
            "694b81cf46ca4ec2bd8dbe2ae0ce4345"
          ]
        },
        "id": "XURvZRIGeUyt",
        "outputId": "02e46991-0832-4243-9c8b-283e3afefd21"
      },
      "execution_count": null,
      "outputs": [
        {
          "output_type": "display_data",
          "data": {
            "text/plain": [
              "Map:   0%|          | 0/21534 [00:00<?, ? examples/s]"
            ],
            "application/vnd.jupyter.widget-view+json": {
              "version_major": 2,
              "version_minor": 0,
              "model_id": "66868fe8caba4a1fba3b8fd5657ef210"
            }
          },
          "metadata": {}
        }
      ]
    },
    {
      "cell_type": "code",
      "source": [
        "prep_data['train'][0]"
      ],
      "metadata": {
        "execution": {
          "iopub.status.busy": "2023-07-25T10:07:17.391268Z",
          "iopub.execute_input": "2023-07-25T10:07:17.391856Z",
          "iopub.status.idle": "2023-07-25T10:07:17.401435Z",
          "shell.execute_reply.started": "2023-07-25T10:07:17.391813Z",
          "shell.execute_reply": "2023-07-25T10:07:17.400150Z"
        },
        "trusted": true,
        "colab": {
          "base_uri": "https://localhost:8080/"
        },
        "id": "yYn2WWJ7eUyu",
        "outputId": "9e06ff96-9690-4c6c-d3e6-a0791a7adbff"
      },
      "execution_count": null,
      "outputs": [
        {
          "output_type": "execute_result",
          "data": {
            "text/plain": [
              "{'flags': 'BILC',\n",
              " 'utterance': \"I don't have an online account, what do I have to do to register?\",\n",
              " 'category': 'ACCOUNT',\n",
              " 'intent': 22}"
            ]
          },
          "metadata": {},
          "execution_count": 9
        }
      ]
    },
    {
      "cell_type": "code",
      "source": [
        "model_id = 'microsoft/deberta-base'\n",
        "tokenizer = DebertaTokenizerFast.from_pretrained(model_id)"
      ],
      "metadata": {
        "execution": {
          "iopub.status.busy": "2023-07-25T10:08:05.515935Z",
          "iopub.execute_input": "2023-07-25T10:08:05.516389Z",
          "iopub.status.idle": "2023-07-25T10:08:09.979131Z",
          "shell.execute_reply.started": "2023-07-25T10:08:05.516355Z",
          "shell.execute_reply": "2023-07-25T10:08:09.977539Z"
        },
        "trusted": true,
        "colab": {
          "base_uri": "https://localhost:8080/"
        },
        "id": "SG23z8pGeUyu",
        "outputId": "40f2f62c-cf12-4457-a0eb-56c921cd6ec9"
      },
      "execution_count": null,
      "outputs": [
        {
          "output_type": "stream",
          "name": "stderr",
          "text": [
            "/usr/local/lib/python3.10/dist-packages/huggingface_hub/file_download.py:1132: FutureWarning: `resume_download` is deprecated and will be removed in version 1.0.0. Downloads always resume when possible. If you want to force a new download, use `force_download=True`.\n",
            "  warnings.warn(\n",
            "/usr/local/lib/python3.10/dist-packages/huggingface_hub/utils/_token.py:89: UserWarning: \n",
            "The secret `HF_TOKEN` does not exist in your Colab secrets.\n",
            "To authenticate with the Hugging Face Hub, create a token in your settings tab (https://huggingface.co/settings/tokens), set it as secret in your Google Colab and restart your session.\n",
            "You will be able to reuse this secret in all of your notebooks.\n",
            "Please note that authentication is recommended but still optional to access public models or datasets.\n",
            "  warnings.warn(\n"
          ]
        }
      ]
    },
    {
      "cell_type": "code",
      "source": [
        "def tokenizer_func(dataset):\n",
        "    return tokenizer(dataset['utterance'],)"
      ],
      "metadata": {
        "execution": {
          "iopub.status.busy": "2023-07-25T10:09:13.287929Z",
          "iopub.execute_input": "2023-07-25T10:09:13.288396Z",
          "iopub.status.idle": "2023-07-25T10:09:13.295536Z",
          "shell.execute_reply.started": "2023-07-25T10:09:13.288358Z",
          "shell.execute_reply": "2023-07-25T10:09:13.293741Z"
        },
        "trusted": true,
        "id": "Qh0EotBIeUyu"
      },
      "execution_count": null,
      "outputs": []
    },
    {
      "cell_type": "code",
      "source": [
        "tokenized_data = prep_data.map(tokenizer_func)"
      ],
      "metadata": {
        "execution": {
          "iopub.status.busy": "2023-07-25T10:09:38.792181Z",
          "iopub.execute_input": "2023-07-25T10:09:38.792612Z",
          "iopub.status.idle": "2023-07-25T10:09:44.761445Z",
          "shell.execute_reply.started": "2023-07-25T10:09:38.792578Z",
          "shell.execute_reply": "2023-07-25T10:09:44.760098Z"
        },
        "trusted": true,
        "colab": {
          "base_uri": "https://localhost:8080/",
          "height": 49,
          "referenced_widgets": [
            "0a233265de244e9ca5d7d70d72552ae3",
            "7e90a8c8740c45738448709c0d27cd35",
            "a94a7365e9f245da845e686a6bae58fa",
            "b8a3856012b54f93b6ef0b69ee0c52ef",
            "b1da707a8fdc49c8ab3ca499da0e8e71",
            "4c67b462f4e14cb9a5b92a77db525178",
            "90e33cd3c1c940c19707c5fce2fe222c",
            "666a4135cde7483f970b827c1b97001d",
            "334634ef2fd048d79db5d5f76fdfbab5",
            "2bc5fa394b4e438b9c3db22508d4d015",
            "2e75b3818d954be6b7f51b5c60a8a819"
          ]
        },
        "id": "CCoDG3iDeUyu",
        "outputId": "16a8185f-9004-45d8-b00c-12ccef6a0891"
      },
      "execution_count": null,
      "outputs": [
        {
          "output_type": "display_data",
          "data": {
            "text/plain": [
              "Map:   0%|          | 0/21534 [00:00<?, ? examples/s]"
            ],
            "application/vnd.jupyter.widget-view+json": {
              "version_major": 2,
              "version_minor": 0,
              "model_id": "0a233265de244e9ca5d7d70d72552ae3"
            }
          },
          "metadata": {}
        }
      ]
    },
    {
      "cell_type": "code",
      "source": [
        "tokenized_data"
      ],
      "metadata": {
        "execution": {
          "iopub.status.busy": "2023-07-25T10:09:51.932335Z",
          "iopub.execute_input": "2023-07-25T10:09:51.932817Z",
          "iopub.status.idle": "2023-07-25T10:09:51.941190Z",
          "shell.execute_reply.started": "2023-07-25T10:09:51.932784Z",
          "shell.execute_reply": "2023-07-25T10:09:51.940078Z"
        },
        "trusted": true,
        "colab": {
          "base_uri": "https://localhost:8080/"
        },
        "id": "wM4e3dC9eUyv",
        "outputId": "84a8a1a9-3983-4a0d-8aca-bbae0147b9fb"
      },
      "execution_count": null,
      "outputs": [
        {
          "output_type": "execute_result",
          "data": {
            "text/plain": [
              "DatasetDict({\n",
              "    train: Dataset({\n",
              "        features: ['flags', 'utterance', 'category', 'intent', 'input_ids', 'token_type_ids', 'attention_mask'],\n",
              "        num_rows: 21534\n",
              "    })\n",
              "})"
            ]
          },
          "metadata": {},
          "execution_count": 13
        }
      ]
    },
    {
      "cell_type": "code",
      "source": [
        "tokenized_data['train'][0]"
      ],
      "metadata": {
        "execution": {
          "iopub.status.busy": "2023-07-25T10:10:19.514346Z",
          "iopub.execute_input": "2023-07-25T10:10:19.514763Z",
          "iopub.status.idle": "2023-07-25T10:10:19.528801Z",
          "shell.execute_reply.started": "2023-07-25T10:10:19.514730Z",
          "shell.execute_reply": "2023-07-25T10:10:19.527096Z"
        },
        "trusted": true,
        "colab": {
          "base_uri": "https://localhost:8080/"
        },
        "id": "-mlV2c1reUyv",
        "outputId": "95b95278-dcfd-4c24-f45e-067b183d962c"
      },
      "execution_count": null,
      "outputs": [
        {
          "output_type": "execute_result",
          "data": {
            "text/plain": [
              "{'flags': 'BILC',\n",
              " 'utterance': \"I don't have an online account, what do I have to do to register?\",\n",
              " 'category': 'ACCOUNT',\n",
              " 'intent': 22,\n",
              " 'input_ids': [1,\n",
              "  100,\n",
              "  218,\n",
              "  75,\n",
              "  33,\n",
              "  41,\n",
              "  804,\n",
              "  1316,\n",
              "  6,\n",
              "  99,\n",
              "  109,\n",
              "  38,\n",
              "  33,\n",
              "  7,\n",
              "  109,\n",
              "  7,\n",
              "  5124,\n",
              "  116,\n",
              "  2],\n",
              " 'token_type_ids': [0, 0, 0, 0, 0, 0, 0, 0, 0, 0, 0, 0, 0, 0, 0, 0, 0, 0, 0],\n",
              " 'attention_mask': [1, 1, 1, 1, 1, 1, 1, 1, 1, 1, 1, 1, 1, 1, 1, 1, 1, 1, 1]}"
            ]
          },
          "metadata": {},
          "execution_count": 14
        }
      ]
    },
    {
      "cell_type": "code",
      "source": [
        "data_collator = DataCollatorWithPadding(tokenizer = tokenizer, return_tensors = 'tf')"
      ],
      "metadata": {
        "execution": {
          "iopub.status.busy": "2023-07-25T10:13:20.490916Z",
          "iopub.execute_input": "2023-07-25T10:13:20.491557Z",
          "iopub.status.idle": "2023-07-25T10:13:20.498330Z",
          "shell.execute_reply.started": "2023-07-25T10:13:20.491514Z",
          "shell.execute_reply": "2023-07-25T10:13:20.496691Z"
        },
        "trusted": true,
        "id": "3uz6XZWieUyv"
      },
      "execution_count": null,
      "outputs": []
    },
    {
      "cell_type": "code",
      "source": [
        "import tensorflow as tf\n",
        "\n",
        "# Check if GPU is available\n",
        "print(\"Num GPUs Available: \", len(tf.config.experimental.list_physical_devices('GPU')))\n"
      ],
      "metadata": {
        "colab": {
          "base_uri": "https://localhost:8080/"
        },
        "id": "WilyXWxlp7aW",
        "outputId": "6250242b-568a-4883-995f-04190fd1cdb3"
      },
      "execution_count": null,
      "outputs": [
        {
          "output_type": "stream",
          "name": "stdout",
          "text": [
            "Num GPUs Available:  1\n"
          ]
        }
      ]
    },
    {
      "cell_type": "code",
      "source": [
        "BATCH_SIZE = 16"
      ],
      "metadata": {
        "execution": {
          "iopub.status.busy": "2023-07-25T10:12:46.292063Z",
          "iopub.execute_input": "2023-07-25T10:12:46.292507Z",
          "iopub.status.idle": "2023-07-25T10:12:46.300125Z",
          "shell.execute_reply.started": "2023-07-25T10:12:46.292475Z",
          "shell.execute_reply": "2023-07-25T10:12:46.298363Z"
        },
        "trusted": true,
        "id": "84Ivd9iyeUyv"
      },
      "execution_count": null,
      "outputs": []
    },
    {
      "cell_type": "code",
      "source": [
        "tf_data = tokenized_data['train'].to_tf_dataset(\n",
        "    columns = ['input_ids', 'attention_mask', 'intent'],\n",
        "    shuffle = True,\n",
        "    batch_size = BATCH_SIZE,\n",
        "    collate_fn = data_collator\n",
        ")"
      ],
      "metadata": {
        "execution": {
          "iopub.status.busy": "2023-07-25T10:15:34.609542Z",
          "iopub.execute_input": "2023-07-25T10:15:34.610213Z",
          "iopub.status.idle": "2023-07-25T10:15:34.658521Z",
          "shell.execute_reply.started": "2023-07-25T10:15:34.610171Z",
          "shell.execute_reply": "2023-07-25T10:15:34.656887Z"
        },
        "trusted": true,
        "id": "LmiyN-5deUyv"
      },
      "execution_count": null,
      "outputs": []
    },
    {
      "cell_type": "code",
      "source": [
        "def swap_position(dataset):\n",
        "    return {\n",
        "        'input_ids': dataset['input_ids'],\n",
        "        'attention_mask': dataset['attention_mask']\n",
        "    }, dataset['intent']"
      ],
      "metadata": {
        "execution": {
          "iopub.status.busy": "2023-07-25T10:15:35.748269Z",
          "iopub.execute_input": "2023-07-25T10:15:35.748662Z",
          "iopub.status.idle": "2023-07-25T10:15:35.754494Z",
          "shell.execute_reply.started": "2023-07-25T10:15:35.748634Z",
          "shell.execute_reply": "2023-07-25T10:15:35.753472Z"
        },
        "trusted": true,
        "id": "k2e-OKGWeUyv"
      },
      "execution_count": null,
      "outputs": []
    },
    {
      "cell_type": "code",
      "source": [
        "tf_data = tf_data.map(swap_position)"
      ],
      "metadata": {
        "execution": {
          "iopub.status.busy": "2023-07-25T10:15:36.617126Z",
          "iopub.execute_input": "2023-07-25T10:15:36.617814Z",
          "iopub.status.idle": "2023-07-25T10:15:36.633459Z",
          "shell.execute_reply.started": "2023-07-25T10:15:36.617777Z",
          "shell.execute_reply": "2023-07-25T10:15:36.632408Z"
        },
        "trusted": true,
        "id": "Z6gK3TareUyw"
      },
      "execution_count": null,
      "outputs": []
    },
    {
      "cell_type": "code",
      "source": [
        "train_dataset=tf_data.take(int(0.9*len(tf_data)))\n",
        "val_dataset=tf_data.skip(int(0.9*len(tf_data)))"
      ],
      "metadata": {
        "execution": {
          "iopub.status.busy": "2023-07-25T10:15:59.197608Z",
          "iopub.execute_input": "2023-07-25T10:15:59.198054Z",
          "iopub.status.idle": "2023-07-25T10:15:59.219417Z",
          "shell.execute_reply.started": "2023-07-25T10:15:59.198020Z",
          "shell.execute_reply": "2023-07-25T10:15:59.218401Z"
        },
        "trusted": true,
        "id": "wmq2-EqweUyw"
      },
      "execution_count": null,
      "outputs": []
    },
    {
      "cell_type": "code",
      "source": [
        "for i in train_dataset.take(1):\n",
        "    print(i)"
      ],
      "metadata": {
        "execution": {
          "iopub.status.busy": "2023-07-25T10:16:18.614899Z",
          "iopub.execute_input": "2023-07-25T10:16:18.615337Z",
          "iopub.status.idle": "2023-07-25T10:16:18.788707Z",
          "shell.execute_reply.started": "2023-07-25T10:16:18.615306Z",
          "shell.execute_reply": "2023-07-25T10:16:18.787135Z"
        },
        "trusted": true,
        "colab": {
          "base_uri": "https://localhost:8080/"
        },
        "id": "HHM41tYgeUyw",
        "outputId": "eeb3a256-2d48-4cd4-f8e0-c49f83dacfa8"
      },
      "execution_count": null,
      "outputs": [
        {
          "output_type": "stream",
          "name": "stdout",
          "text": [
            "({'input_ids': <tf.Tensor: shape=(16, 18), dtype=int64, numpy=\n",
            "array([[    1,   118,   236,   335,     6,   141,   109,   939,  2142,\n",
            "           41,  1047,     7,  3653,   544,   116,     2,     0,     0],\n",
            "       [    1,  8569,   109,   939,  2870,    10,  2267,  3674,   116,\n",
            "            2,     0,     0,     0,     0,     0,     0,     0,     0],\n",
            "       [    1,  9178,    64,    38,   192,    41, 38199,   116,     2,\n",
            "            0,     0,     0,     0,     0,     0,     0,     0,     0],\n",
            "       [    1,   118,   240,    41,  1316,     6,   141,    64,   939,\n",
            "         1045,    65,   116,     2,     0,     0,     0,     0,     0],\n",
            "       [    1, 31480,    59,   562,   103, 12259,   139,  6355,     2,\n",
            "            0,     0,     0,     0,     0,     0,     0,     0,     0],\n",
            "       [    1,   100,    33,    10,   864,     6,    64,    47,  1067,\n",
            "            7, 19458,  1841,   116,     2,     0,     0,     0,     0],\n",
            "       [    1, 37111,     6,  1137,   162,   114,    38,   115,  1045,\n",
            "           55,    87,    65,  1316,    19,    10,   881,  1047,     2],\n",
            "       [    1,   118, 23126,   120,    10,  1087,     6,    64,    47,\n",
            "         1137,   162,   141,    38,    64,   109,    24,   116,     2],\n",
            "       [    1,  7424,   939,   490,    41,  7678,  1178, 12825,   116,\n",
            "            2,     0,     0,     0,     0,     0,     0,     0,     0],\n",
            "       [    1,  6968,  2025,    75,  1903,     6,   115,    47,  1067,\n",
            "            7,    10,  1050,  2936,     6,  2540,   116,     2,     0],\n",
            "       [    1,  4970,    41,  2936,     7,  1649,   127, 21782,     2,\n",
            "            0,     0,     0,     0,     0,     0,     0,     0,     0],\n",
            "       [    1,   627,   515,    21,  8102,     6,   141,   109,    38,\n",
            "          120,    10, 22507,   116,     2,     0,     0,     0,     0],\n",
            "       [    1,   100,    33,   117,   804,  1316,     6,    99,   109,\n",
            "           38,    33,     7,   109,     7,  5124,   116,     2,     0],\n",
            "       [    1,   100,   236,     7,   146,    10,  3674,     6,    99,\n",
            "           64,    38,   109,   116,     2,     0,     0,     0,     0],\n",
            "       [    1,   118, 23126,  1649,     5,  2996,  1735,     6,    99,\n",
            "          197,   939,   109,   116,     2,     0,     0,     0,     0],\n",
            "       [    1, 37111,     6,   939, 23126,   216,    99,     5,  1047,\n",
            "         1100,     7,  1511,  2111,   544,    16,     2,     0,     0]])>, 'attention_mask': <tf.Tensor: shape=(16, 18), dtype=int64, numpy=\n",
            "array([[1, 1, 1, 1, 1, 1, 1, 1, 1, 1, 1, 1, 1, 1, 1, 1, 0, 0],\n",
            "       [1, 1, 1, 1, 1, 1, 1, 1, 1, 1, 0, 0, 0, 0, 0, 0, 0, 0],\n",
            "       [1, 1, 1, 1, 1, 1, 1, 1, 1, 0, 0, 0, 0, 0, 0, 0, 0, 0],\n",
            "       [1, 1, 1, 1, 1, 1, 1, 1, 1, 1, 1, 1, 1, 0, 0, 0, 0, 0],\n",
            "       [1, 1, 1, 1, 1, 1, 1, 1, 1, 0, 0, 0, 0, 0, 0, 0, 0, 0],\n",
            "       [1, 1, 1, 1, 1, 1, 1, 1, 1, 1, 1, 1, 1, 1, 0, 0, 0, 0],\n",
            "       [1, 1, 1, 1, 1, 1, 1, 1, 1, 1, 1, 1, 1, 1, 1, 1, 1, 1],\n",
            "       [1, 1, 1, 1, 1, 1, 1, 1, 1, 1, 1, 1, 1, 1, 1, 1, 1, 1],\n",
            "       [1, 1, 1, 1, 1, 1, 1, 1, 1, 1, 0, 0, 0, 0, 0, 0, 0, 0],\n",
            "       [1, 1, 1, 1, 1, 1, 1, 1, 1, 1, 1, 1, 1, 1, 1, 1, 1, 0],\n",
            "       [1, 1, 1, 1, 1, 1, 1, 1, 1, 0, 0, 0, 0, 0, 0, 0, 0, 0],\n",
            "       [1, 1, 1, 1, 1, 1, 1, 1, 1, 1, 1, 1, 1, 1, 0, 0, 0, 0],\n",
            "       [1, 1, 1, 1, 1, 1, 1, 1, 1, 1, 1, 1, 1, 1, 1, 1, 1, 0],\n",
            "       [1, 1, 1, 1, 1, 1, 1, 1, 1, 1, 1, 1, 1, 1, 0, 0, 0, 0],\n",
            "       [1, 1, 1, 1, 1, 1, 1, 1, 1, 1, 1, 1, 1, 1, 0, 0, 0, 0],\n",
            "       [1, 1, 1, 1, 1, 1, 1, 1, 1, 1, 1, 1, 1, 1, 1, 1, 0, 0]])>}, <tf.Tensor: shape=(16,), dtype=int64, numpy=array([26, 14,  2, 22,  2, 26, 22,  2, 22, 25, 24,  7, 22, 14, 20, 26])>)\n"
          ]
        }
      ]
    },
    {
      "cell_type": "markdown",
      "source": [
        "## Using pre-trained TFDeberta"
      ],
      "metadata": {
        "id": "mEUfIj7VeUyw"
      }
    },
    {
      "cell_type": "code",
      "source": [
        "model = TFDebertaForSequenceClassification.from_pretrained(model_id, num_labels = len(intents))\n",
        "model.summary()"
      ],
      "metadata": {
        "execution": {
          "iopub.status.busy": "2023-07-25T10:19:54.027679Z",
          "iopub.execute_input": "2023-07-25T10:19:54.028174Z",
          "iopub.status.idle": "2023-07-25T10:19:58.502280Z",
          "shell.execute_reply.started": "2023-07-25T10:19:54.028139Z",
          "shell.execute_reply": "2023-07-25T10:19:58.500760Z"
        },
        "trusted": true,
        "colab": {
          "base_uri": "https://localhost:8080/"
        },
        "id": "NEHLjdBUeUyw",
        "outputId": "964fd7c5-dc67-424d-9e67-28db8aa9efc4"
      },
      "execution_count": null,
      "outputs": [
        {
          "output_type": "stream",
          "name": "stderr",
          "text": [
            "All model checkpoint layers were used when initializing TFDebertaForSequenceClassification.\n",
            "\n",
            "Some layers of TFDebertaForSequenceClassification were not initialized from the model checkpoint at microsoft/deberta-base and are newly initialized: ['classifier', 'cls_dropout', 'pooler']\n",
            "You should probably TRAIN this model on a down-stream task to be able to use it for predictions and inference.\n"
          ]
        },
        {
          "output_type": "stream",
          "name": "stdout",
          "text": [
            "Model: \"tf_deberta_for_sequence_classification\"\n",
            "_________________________________________________________________\n",
            " Layer (type)                Output Shape              Param #   \n",
            "=================================================================\n",
            " deberta (TFDebertaMainLaye  multiple                  138601728 \n",
            " r)                                                              \n",
            "                                                                 \n",
            " pooler (TFDebertaContextPo  multiple                  590592    \n",
            " oler)                                                           \n",
            "                                                                 \n",
            " cls_dropout (TFDebertaStab  multiple                  0         \n",
            " leDropout)                                                      \n",
            "                                                                 \n",
            " classifier (Dense)          multiple                  20763     \n",
            "                                                                 \n",
            "=================================================================\n",
            "Total params: 139213083 (531.06 MB)\n",
            "Trainable params: 139213083 (531.06 MB)\n",
            "Non-trainable params: 0 (0.00 Byte)\n",
            "_________________________________________________________________\n"
          ]
        }
      ]
    },
    {
      "cell_type": "code",
      "source": [
        "num_epochs = 3\n",
        "batches_per_epoch = len(tokenized_data['train']) // BATCH_SIZE\n",
        "total_train_step = int(batches_per_epoch * num_epochs)"
      ],
      "metadata": {
        "execution": {
          "iopub.status.busy": "2023-07-25T10:21:40.228706Z",
          "iopub.execute_input": "2023-07-25T10:21:40.229221Z",
          "iopub.status.idle": "2023-07-25T10:21:40.236259Z",
          "shell.execute_reply.started": "2023-07-25T10:21:40.229185Z",
          "shell.execute_reply": "2023-07-25T10:21:40.234594Z"
        },
        "trusted": true,
        "id": "RQ85Bo3veUyx"
      },
      "execution_count": null,
      "outputs": []
    },
    {
      "cell_type": "code",
      "source": [
        "optimizer, schedule = create_optimizer(\n",
        "    init_lr = 2e-5,\n",
        "    num_warmup_steps = 0,\n",
        "    num_train_steps = total_train_step\n",
        ")"
      ],
      "metadata": {
        "execution": {
          "iopub.status.busy": "2023-07-25T10:23:21.747565Z",
          "iopub.execute_input": "2023-07-25T10:23:21.748002Z",
          "iopub.status.idle": "2023-07-25T10:23:21.772005Z",
          "shell.execute_reply.started": "2023-07-25T10:23:21.747954Z",
          "shell.execute_reply": "2023-07-25T10:23:21.770403Z"
        },
        "trusted": true,
        "id": "l1pCYvxPeUyx"
      },
      "execution_count": null,
      "outputs": []
    },
    {
      "cell_type": "code",
      "source": [
        "model.compile(\n",
        "    optimizer = optimizer,\n",
        "    metrics = [\"accuracy\"]\n",
        ")"
      ],
      "metadata": {
        "execution": {
          "iopub.status.busy": "2023-07-25T10:23:54.322909Z",
          "iopub.execute_input": "2023-07-25T10:23:54.323589Z",
          "iopub.status.idle": "2023-07-25T10:23:54.353069Z",
          "shell.execute_reply.started": "2023-07-25T10:23:54.323545Z",
          "shell.execute_reply": "2023-07-25T10:23:54.351138Z"
        },
        "trusted": true,
        "id": "cEsZOpbTeUyx"
      },
      "execution_count": null,
      "outputs": []
    },
    {
      "cell_type": "code",
      "source": [
        "train_history = model.fit(train_dataset, validation_data = val_dataset, epochs = 3, verbose = 1)"
      ],
      "metadata": {
        "execution": {
          "iopub.status.busy": "2023-07-25T13:05:38.430661Z",
          "iopub.execute_input": "2023-07-25T13:05:38.431201Z",
          "iopub.status.idle": "2023-07-25T13:05:38.438462Z",
          "shell.execute_reply.started": "2023-07-25T13:05:38.431163Z",
          "shell.execute_reply": "2023-07-25T13:05:38.436220Z"
        },
        "trusted": true,
        "colab": {
          "base_uri": "https://localhost:8080/"
        },
        "id": "5JfzxyepeUyx",
        "outputId": "5852ad6d-885e-42ee-dea1-e5364c70bbae"
      },
      "execution_count": null,
      "outputs": [
        {
          "output_type": "stream",
          "name": "stdout",
          "text": [
            "Epoch 1/3\n"
          ]
        },
        {
          "output_type": "stream",
          "name": "stderr",
          "text": [
            "WARNING:tensorflow:AutoGraph could not transform <function infer_framework at 0x7998641d2440> and will run it as-is.\n",
            "Cause: for/else statement not yet supported\n",
            "To silence this warning, decorate the function with @tf.autograph.experimental.do_not_convert\n"
          ]
        },
        {
          "output_type": "stream",
          "name": "stdout",
          "text": [
            "WARNING: AutoGraph could not transform <function infer_framework at 0x7998641d2440> and will run it as-is.\n",
            "Cause: for/else statement not yet supported\n",
            "To silence this warning, decorate the function with @tf.autograph.experimental.do_not_convert\n"
          ]
        },
        {
          "output_type": "stream",
          "name": "stderr",
          "text": [
            "WARNING:tensorflow:From /usr/local/lib/python3.10/dist-packages/transformers/models/deberta/modeling_tf_deberta.py:133: Bernoulli.__init__ (from tensorflow.python.ops.distributions.bernoulli) is deprecated and will be removed after 2019-01-01.\n",
            "Instructions for updating:\n",
            "The TensorFlow Distributions library has moved to TensorFlow Probability (https://github.com/tensorflow/probability). You should update all references to use `tfp.distributions` instead of `tf.distributions`.\n",
            "WARNING:tensorflow:From /usr/local/lib/python3.10/dist-packages/tensorflow/python/ops/distributions/bernoulli.py:86: Distribution.__init__ (from tensorflow.python.ops.distributions.distribution) is deprecated and will be removed after 2019-01-01.\n",
            "Instructions for updating:\n",
            "The TensorFlow Distributions library has moved to TensorFlow Probability (https://github.com/tensorflow/probability). You should update all references to use `tfp.distributions` instead of `tf.distributions`.\n"
          ]
        },
        {
          "output_type": "stream",
          "name": "stdout",
          "text": [
            "1211/1211 [==============================] - 432s 252ms/step - loss: 0.2722 - accuracy: 0.9399 - val_loss: 0.0314 - val_accuracy: 0.9893\n",
            "Epoch 2/3\n",
            "1211/1211 [==============================] - 284s 234ms/step - loss: 0.0085 - accuracy: 0.9989 - val_loss: 0.0013 - val_accuracy: 1.0000\n",
            "Epoch 3/3\n",
            "1211/1211 [==============================] - 281s 232ms/step - loss: 0.0031 - accuracy: 0.9998 - val_loss: 8.2609e-04 - val_accuracy: 1.0000\n"
          ]
        }
      ]
    },
    {
      "cell_type": "code",
      "source": [
        "inputs = tokenizer([\"i want to track my order\"\n",
        "                    ], padding=True,return_tensors=\"tf\")\n",
        "\n",
        "logits = model(**inputs).logits\n",
        "outputs=tf.argmax(logits,axis=-1).numpy()"
      ],
      "metadata": {
        "execution": {
          "iopub.status.busy": "2023-07-25T13:07:43.577672Z",
          "iopub.execute_input": "2023-07-25T13:07:43.578250Z",
          "iopub.status.idle": "2023-07-25T13:07:44.526940Z",
          "shell.execute_reply.started": "2023-07-25T13:07:43.578198Z",
          "shell.execute_reply": "2023-07-25T13:07:44.525531Z"
        },
        "trusted": true,
        "id": "DhHyHjjGeUyx"
      },
      "execution_count": null,
      "outputs": []
    },
    {
      "cell_type": "code",
      "source": [
        "print(outputs)"
      ],
      "metadata": {
        "execution": {
          "iopub.status.busy": "2023-07-25T13:08:03.412268Z",
          "iopub.execute_input": "2023-07-25T13:08:03.412787Z",
          "iopub.status.idle": "2023-07-25T13:08:03.421355Z",
          "shell.execute_reply.started": "2023-07-25T13:08:03.412750Z",
          "shell.execute_reply": "2023-07-25T13:08:03.419165Z"
        },
        "trusted": true,
        "colab": {
          "base_uri": "https://localhost:8080/"
        },
        "id": "ti-ojapreUyx",
        "outputId": "3fed1ddf-50fa-4186-ed2f-bd9521e59e9c"
      },
      "execution_count": null,
      "outputs": [
        {
          "output_type": "stream",
          "name": "stdout",
          "text": [
            "[24]\n"
          ]
        }
      ]
    },
    {
      "cell_type": "code",
      "source": [
        "reverse_dict_intents={i:intents[i] for i in range(len(intents))}\n",
        "print(reverse_dict_intents)"
      ],
      "metadata": {
        "execution": {
          "iopub.status.busy": "2023-07-25T13:08:21.762414Z",
          "iopub.execute_input": "2023-07-25T13:08:21.763830Z",
          "iopub.status.idle": "2023-07-25T13:08:21.770527Z",
          "shell.execute_reply.started": "2023-07-25T13:08:21.763773Z",
          "shell.execute_reply": "2023-07-25T13:08:21.769054Z"
        },
        "trusted": true,
        "colab": {
          "base_uri": "https://localhost:8080/"
        },
        "id": "BG2zSWaWeUyx",
        "outputId": "edf665b1-1f92-4dfc-d425-e337b8338ddd"
      },
      "execution_count": null,
      "outputs": [
        {
          "output_type": "stream",
          "name": "stdout",
          "text": [
            "{0: 'review', 1: 'registration_problems', 2: 'get_invoice', 3: 'check_invoices', 4: 'check_cancellation_fee', 5: 'set_up_shipping_address', 6: 'newsletter_subscription', 7: 'get_refund', 8: 'recover_password', 9: 'track_refund', 10: 'cancel_order', 11: 'change_order', 12: 'delivery_period', 13: 'check_payment_methods', 14: 'complaint', 15: 'payment_issue', 16: 'change_shipping_address', 17: 'switch_account', 18: 'place_order', 19: 'edit_account', 20: 'delivery_options', 21: 'check_refund_policy', 22: 'create_account', 23: 'delete_account', 24: 'track_order', 25: 'contact_human_agent', 26: 'contact_customer_service'}\n"
          ]
        }
      ]
    },
    {
      "cell_type": "code",
      "source": [
        "for i in outputs:\n",
        "    print(reverse_dict_intents[i])"
      ],
      "metadata": {
        "execution": {
          "iopub.status.busy": "2023-07-25T13:08:32.116513Z",
          "iopub.execute_input": "2023-07-25T13:08:32.116899Z",
          "iopub.status.idle": "2023-07-25T13:08:32.122210Z",
          "shell.execute_reply.started": "2023-07-25T13:08:32.116870Z",
          "shell.execute_reply": "2023-07-25T13:08:32.121284Z"
        },
        "trusted": true,
        "colab": {
          "base_uri": "https://localhost:8080/"
        },
        "id": "SSLqsYSveUyx",
        "outputId": "1ea82a9f-0060-4a84-938c-0b43216985a2"
      },
      "execution_count": null,
      "outputs": [
        {
          "output_type": "stream",
          "name": "stdout",
          "text": [
            "track_order\n"
          ]
        }
      ]
    },
    {
      "cell_type": "code",
      "source": [
        "responses = {\n",
        "        'place_order': \"Sure! To place an order, you can follow these steps:\\n1. Browse through our products and select the items you want to purchase.\\n2. Add the selected items to your cart.\\n3. Proceed to checkout and fill in your shipping and payment details.\\n4. Review your order and confirm the purchase.\",\n",
        "        'change_shipping_address': \"To change your shipping address, please follow these steps:\\n1. Log in to your account.\\n2. Go to the 'My Account' section.\\n3. Select 'Shipping Address'.\\n4. Update your address and save the changes.\",\n",
        "        'contact_human_agent': \"If you would like to speak to a human agent, please reach out to our customer support team through our helpline at [phone number] or via email at [email address]. Our agents are available to assist you.\",\n",
        "        'create_account': \"To create an account, follow these steps:\\n1. Visit our website and click on the 'Sign Up' or 'Create Account' button.\\n2. Fill in the required information such as your name, email address, and password.\\n3. Verify your email address by clicking on the verification link sent to your inbox.\\n4. Once verified, your account will be created successfully.\",\n",
        "        'edit_account': \"To edit your account details, please follow these steps:\\n1. Log in to your account.\\n2. Navigate to the 'My Account' section.\\n3. Select the 'Edit Profile' option.\\n4. Update the necessary information such as your name, email, or password.\\n5. Save the changes to update your account details.\",\n",
        "        'check_payment_methods': \"To check your payment methods, follow these steps:\\n1. Log in to your account.\\n2. Go to the 'Payment Methods' section.\\n3. Here, you can view and manage your saved payment methods.\",\n",
        "        'change_order': \"To change an existing order, please follow these steps:\\n1. Log in to your account.\\n2. Go to the 'Orders' or 'Order History' section.\\n3. Find the order you wish to change and select the 'Change Order' option.\\n4. Follow the prompts to make the necessary changes to your order.\",\n",
        "        'registration_problems': \"If you're experiencing issues with registration, please ensure that you're providing valid information and meeting any requirements such as password strength or email format. If the issue persists, please reach out to our customer support team for assistance.\",\n",
        "        'get_invoice': \"To get an invoice for your order, follow these steps:\\n1. Log in to your account.\\n2. Go to the 'Orders' or 'Order History' section.\\n3. Find the order for which you need an invoice.\\n4. Select the option to 'View Invoice' or 'Download Invoice'.\",\n",
        "        'delivery_options': \"We offer various delivery options including standard, expedited, and same-day delivery. During checkout, you can select the delivery option that best suits your needs.\",\n",
        "        'payment_issue': \"If you're experiencing issues with payment, please ensure that your payment method is valid and has sufficient funds. You can also try using a different payment method or contacting your bank for further assistance.\",\n",
        "        'track_refund': \"To track the status of your refund, follow these steps:\\n1. Log in to your account.\\n2. Go to the 'Refunds' or 'Refund Status' section.\\n3. Here, you can view the status of your refund and any associated details.\",\n",
        "        'newsletter_subscription': \"To subscribe to our newsletter, please provide your email address in the newsletter subscription section on our website. You'll receive updates, promotions, and exclusive offers straight to your inbox.\",\n",
        "        'cancel_order': \"To cancel an order, please follow these steps:\\n1. Log in to your account.\\n2. Go to the 'Orders' or 'Order History' section.\\n3. Find the order you wish to cancel and select the 'Cancel Order' option.\\n4. Follow the prompts to confirm the cancellation.\",\n",
        "        'complaint': \"If you have a complaint, we're here to help. Please reach out to our customer support team and provide details about your issue. We'll investigate the matter and work towards a resolution.\",\n",
        "        'set_up_shipping_address': \"To set up your shipping address, follow these steps:\\n1. Log in to your account.\\n2. Navigate to the 'My Account' section.\\n3. Select 'Shipping Address'.\\n4. Add a new address or edit an existing one.\\n5. Save your changes to set up your shipping address.\",\n",
        "        'recover_password': \"If you've forgotten your password, follow these steps to recover it:\\n1. Go to the login page on our website.\\n2. Click on the 'Forgot Password' or 'Reset Password' link.\\n3. Enter your email address associated with your account.\\n4. Check your email for instructions on resetting your password.\",\n",
        "        'delete_account': \"To delete your account, please contact our customer support team and request an account deletion. We'll guide you through the process and ensure that your account is deleted securely.\",\n",
        "        'review': \"We appreciate your feedback! To leave a review, navigate to the product page of the item you purchased. Scroll down to the reviews section and click on 'Write a Review'. Share your experience and rate the product to help others make informed decisions.\",\n",
        "        'check_invoices': \"To check your invoices, follow these steps:\\n1. Log in to your account.\\n2. Go to the 'Invoices' or 'Invoice History' section.\\n3. Here, you can view and download your invoices for past orders.\",\n",
        "        'switch_account': \"To switch accounts, simply log out of your current account and log in with the credentials of the account you wish to switch to.\",\n",
        "        'get_refund': \"To request a refund, please follow these steps:\\n1. Log in to your account.\\n2. Go to the 'Refunds' or 'Request Refund' section.\\n3. Select the order for which you want a refund.\\n4. Follow the prompts to request a refund.\",\n",
        "        'contact_customer_service': \"If you need assistance, please don't hesitate to contact our customer service team. You can reach us via phone, email, or live chat support available on our website.\",\n",
        "        'track_order': \"To track your order, follow these steps:\\n1. Log in to your account.\\n2. Go to the 'Orders' or 'Order History' section.\\n3. Find the order you want to track and select the 'Track Order' option.\\n4. Here, you can view the current status and tracking information for your order.\",\n",
        "        'check_cancellation_fee': \"If you're considering canceling your order, please review our cancellation policy for any applicable fees. You can find this information in the terms and conditions or contact our customer support team for assistance.\",\n",
        "        'delivery_period': \"The delivery period depends on your location and the shipping method selected during checkout. You can check the estimated delivery time frame for your order on the product page or during checkout.\",\n",
        "        'check_refund_policy': \"Before requesting a refund, please review our refund policy to understand eligibility criteria, processing times, and any applicable fees. You can find this information on our website or contact our customer support team for clarification.\",\n",
        "    }"
      ],
      "metadata": {
        "id": "rA0X8yU1oEP0"
      },
      "execution_count": null,
      "outputs": []
    },
    {
      "cell_type": "code",
      "source": [
        "# Mapping predicted intents to predefined responses\n",
        "predicted_responses = [responses[reverse_dict_intents[i]] for i in outputs]\n",
        "\n",
        "# Printing the predicted responses\n",
        "for response in predicted_responses:\n",
        "    print(response)\n"
      ],
      "metadata": {
        "colab": {
          "base_uri": "https://localhost:8080/"
        },
        "id": "Ql8GGbyXlu7F",
        "outputId": "3e6e6706-08ce-43ae-dc83-fb06d27553dd"
      },
      "execution_count": null,
      "outputs": [
        {
          "output_type": "stream",
          "name": "stdout",
          "text": [
            "To track your order, follow these steps:\n",
            "1. Log in to your account.\n",
            "2. Go to the 'Orders' or 'Order History' section.\n",
            "3. Find the order you want to track and select the 'Track Order' option.\n",
            "4. Here, you can view the current status and tracking information for your order.\n"
          ]
        }
      ]
    },
    {
      "cell_type": "code",
      "source": [
        "# Save the model\n",
        "model.save('/content/model')\n",
        "\n"
      ],
      "metadata": {
        "id": "w_InZrfkywB7"
      },
      "execution_count": null,
      "outputs": []
    },
    {
      "cell_type": "code",
      "source": [
        "# Define the directory where you want to save the model\n",
        "save_directory = \"/content/DeBERTa_model\"\n",
        "\n",
        "# Save the model\n",
        "model.save_pretrained(save_directory)"
      ],
      "metadata": {
        "id": "Z-MkpC9sCBhv"
      },
      "execution_count": 36,
      "outputs": []
    }
  ]
}